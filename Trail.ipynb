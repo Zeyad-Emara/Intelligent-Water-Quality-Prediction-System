{
 "cells": [
  {
   "cell_type": "code",
   "execution_count": 30,
   "id": "c1fbaef6",
   "metadata": {},
   "outputs": [],
   "source": [
    "import pandas as pd\n",
    "df = pd.read_csv(\"water_potability.csv\")"
   ]
  },
  {
   "cell_type": "code",
   "execution_count": 12,
   "id": "fa5b8687",
   "metadata": {},
   "outputs": [
    {
     "name": "stdout",
     "output_type": "stream",
     "text": [
      "<class 'pandas.core.frame.DataFrame'>\n",
      "RangeIndex: 3276 entries, 0 to 3275\n",
      "Data columns (total 10 columns):\n",
      " #   Column           Non-Null Count  Dtype  \n",
      "---  ------           --------------  -----  \n",
      " 0   ph               2785 non-null   float64\n",
      " 1   Hardness         3276 non-null   float64\n",
      " 2   Solids           3276 non-null   float64\n",
      " 3   Chloramines      3276 non-null   float64\n",
      " 4   Sulfate          2495 non-null   float64\n",
      " 5   Conductivity     3276 non-null   float64\n",
      " 6   Organic_carbon   3276 non-null   float64\n",
      " 7   Trihalomethanes  3114 non-null   float64\n",
      " 8   Turbidity        3276 non-null   float64\n",
      " 9   Potability       3276 non-null   int64  \n",
      "dtypes: float64(9), int64(1)\n",
      "memory usage: 256.1 KB\n"
     ]
    }
   ],
   "source": [
    "df.info() #some records dont have values for all atributes"
   ]
  },
  {
   "cell_type": "code",
   "execution_count": 31,
   "id": "f58919d9",
   "metadata": {},
   "outputs": [
    {
     "data": {
      "text/plain": [
       "ph                 491\n",
       "Hardness             0\n",
       "Solids               0\n",
       "Chloramines          0\n",
       "Sulfate            781\n",
       "Conductivity         0\n",
       "Organic_carbon       0\n",
       "Trihalomethanes    162\n",
       "Turbidity            0\n",
       "Potability           0\n",
       "dtype: int64"
      ]
     },
     "execution_count": 31,
     "metadata": {},
     "output_type": "execute_result"
    }
   ],
   "source": [
    "df.isnull().sum() #calculate number of null vals for each attribute"
   ]
  },
  {
   "cell_type": "code",
   "execution_count": 33,
   "id": "4d79bbe7",
   "metadata": {},
   "outputs": [],
   "source": [
    "#Replace all NaN elements with means \n",
    "df['ph'] = df['ph'].fillna(df['ph'].mean())\n",
    "df['Sulfate'] = df['Sulfate'].fillna(df['Sulfate'].mean())\n",
    "df['Trihalomethanes'] = df['Trihalomethanes'].fillna(df['Trihalomethanes'].mean())"
   ]
  },
  {
   "cell_type": "code",
   "execution_count": 34,
   "id": "c5bf4f6a",
   "metadata": {},
   "outputs": [
    {
     "data": {
      "text/plain": [
       "ph                 0\n",
       "Hardness           0\n",
       "Solids             0\n",
       "Chloramines        0\n",
       "Sulfate            0\n",
       "Conductivity       0\n",
       "Organic_carbon     0\n",
       "Trihalomethanes    0\n",
       "Turbidity          0\n",
       "Potability         0\n",
       "dtype: int64"
      ]
     },
     "execution_count": 34,
     "metadata": {},
     "output_type": "execute_result"
    }
   ],
   "source": [
    "df.isnull().sum()"
   ]
  },
  {
   "cell_type": "code",
   "execution_count": 35,
   "id": "ad1617fa",
   "metadata": {},
   "outputs": [
    {
     "data": {
      "text/plain": [
       "((3276, 9), (3276,))"
      ]
     },
     "execution_count": 35,
     "metadata": {},
     "output_type": "execute_result"
    }
   ],
   "source": [
    "#spliting dataset to input(X)set and output(Y) set\n",
    "X = df.drop('Potability', axis=1)\n",
    "y = df['Potability']\n",
    "X.shape, y.shape"
   ]
  },
  {
   "cell_type": "code",
   "execution_count": null,
   "id": "3345312a",
   "metadata": {},
   "outputs": [],
   "source": [
    "#performing scaling makes machine learning algorithms perform better \n",
    "#when numerical input variables are scaled to a standard range\n",
    "# Standardization scales each input variable separately by subtracting the mean (called centering) and dividing by the standard deviation to shift the distribution \n",
    "#to have a mean of zero and a standard deviation of one.\n",
    "#Data scaling is a recommended pre-processing step when working with many machine learning algorithms.\n",
    "#Data scaling can be achieved by normalizing or standardizing real-valued input \n",
    "#and output variables."
   ]
  },
  {
   "cell_type": "code",
   "execution_count": 36,
   "id": "381d81b4",
   "metadata": {},
   "outputs": [],
   "source": [
    "# import StandardScaler to perform scaling\n",
    "from sklearn.preprocessing import StandardScaler \n",
    "scaler = StandardScaler()\n",
    "X = scaler.fit_transform(X)"
   ]
  },
  {
   "cell_type": "code",
   "execution_count": 37,
   "id": "ab3a0365",
   "metadata": {},
   "outputs": [],
   "source": [
    "#spliting the dataset for  training and testing\n",
    "from sklearn.model_selection import train_test_split\n",
    "X_train, X_test, y_train, y_test = train_test_split(X, y ,test_size = 0.2) #20% for training"
   ]
  },
  {
   "cell_type": "code",
   "execution_count": null,
   "id": "425f3a71",
   "metadata": {},
   "outputs": [],
   "source": [
    "#learning and prediction"
   ]
  },
  {
   "cell_type": "code",
   "execution_count": 38,
   "id": "62d27d85",
   "metadata": {},
   "outputs": [],
   "source": [
    "#DecisionTreeClassifier\n",
    "from sklearn.tree import DecisionTreeClassifier\n",
    "from sklearn.metrics import accuracy_score\n",
    "model_dt = DecisionTreeClassifier() #create model \n",
    "model_dt.fit(X_train, y_train) #train the model\n",
    "pred_dt =model_dt.predict(X_test) #storing prediction"
   ]
  },
  {
   "cell_type": "code",
   "execution_count": 39,
   "id": "f7c5cb1b",
   "metadata": {},
   "outputs": [
    {
     "data": {
      "text/plain": [
       "0.5685975609756098"
      ]
     },
     "execution_count": 39,
     "metadata": {},
     "output_type": "execute_result"
    }
   ],
   "source": [
    "#accuracy for DecisionTree\n",
    "accuracy_score(y_test, pred_dt)"
   ]
  },
  {
   "cell_type": "code",
   "execution_count": 40,
   "id": "78a22866",
   "metadata": {},
   "outputs": [],
   "source": [
    "#KNeighbours\n",
    "from sklearn.neighbors import KNeighborsClassifier\n",
    "model_kn =KNeighborsClassifier(n_neighbors=8,) #create model default 5 neighbors\n",
    "model_kn.fit(X_train, y_train) #train\n",
    "pred_kn = model_kn.predict(X_test) # storing prediction"
   ]
  },
  {
   "cell_type": "code",
   "execution_count": 41,
   "id": "0e601601",
   "metadata": {},
   "outputs": [
    {
     "data": {
      "text/plain": [
       "0.6387195121951219"
      ]
     },
     "execution_count": 41,
     "metadata": {},
     "output_type": "execute_result"
    }
   ],
   "source": [
    "#accuracy for KN\n",
    "accuracy_score(y_test, pred_kn)"
   ]
  },
  {
   "cell_type": "code",
   "execution_count": 42,
   "id": "5f788e3d",
   "metadata": {},
   "outputs": [],
   "source": [
    "#SVM\n",
    "from sklearn.svm import SVC\n",
    "model_svm = SVC()\n",
    "model_svm.fit(X_train, y_train)\n",
    "pred_svm = model_svm.predict(X_test)\n"
   ]
  },
  {
   "cell_type": "code",
   "execution_count": 43,
   "id": "09b58d33",
   "metadata": {},
   "outputs": [
    {
     "data": {
      "text/plain": [
       "0.6783536585365854"
      ]
     },
     "execution_count": 43,
     "metadata": {},
     "output_type": "execute_result"
    }
   ],
   "source": [
    "# Calculating Accuracy Score\n",
    "accuracy_score(y_test, pred_svm)"
   ]
  },
  {
   "cell_type": "code",
   "execution_count": null,
   "id": "7fe1f37b",
   "metadata": {},
   "outputs": [],
   "source": []
  },
  {
   "cell_type": "code",
   "execution_count": null,
   "id": "d18b5df7",
   "metadata": {},
   "outputs": [],
   "source": []
  },
  {
   "cell_type": "code",
   "execution_count": null,
   "id": "4eadc880",
   "metadata": {},
   "outputs": [],
   "source": []
  },
  {
   "cell_type": "code",
   "execution_count": null,
   "id": "36a8400b",
   "metadata": {},
   "outputs": [],
   "source": []
  },
  {
   "cell_type": "code",
   "execution_count": null,
   "id": "a0c7679e",
   "metadata": {},
   "outputs": [],
   "source": []
  },
  {
   "cell_type": "code",
   "execution_count": null,
   "id": "9af8bfe5",
   "metadata": {},
   "outputs": [],
   "source": []
  },
  {
   "cell_type": "code",
   "execution_count": null,
   "id": "8a443305",
   "metadata": {},
   "outputs": [],
   "source": []
  },
  {
   "cell_type": "code",
   "execution_count": null,
   "id": "c85b78d9",
   "metadata": {},
   "outputs": [],
   "source": []
  },
  {
   "cell_type": "code",
   "execution_count": null,
   "id": "f9730844",
   "metadata": {},
   "outputs": [],
   "source": []
  },
  {
   "cell_type": "code",
   "execution_count": null,
   "id": "fbf4031f",
   "metadata": {},
   "outputs": [],
   "source": []
  },
  {
   "cell_type": "code",
   "execution_count": null,
   "id": "a5111cdf",
   "metadata": {},
   "outputs": [],
   "source": []
  },
  {
   "cell_type": "code",
   "execution_count": null,
   "id": "a259e16e",
   "metadata": {},
   "outputs": [],
   "source": []
  },
  {
   "cell_type": "code",
   "execution_count": null,
   "id": "18fff7c7",
   "metadata": {},
   "outputs": [],
   "source": []
  },
  {
   "cell_type": "code",
   "execution_count": null,
   "id": "764cb7e3",
   "metadata": {},
   "outputs": [],
   "source": []
  },
  {
   "cell_type": "code",
   "execution_count": null,
   "id": "12fdf1b6",
   "metadata": {},
   "outputs": [],
   "source": []
  },
  {
   "cell_type": "code",
   "execution_count": null,
   "id": "b1eaf1ce",
   "metadata": {},
   "outputs": [],
   "source": []
  },
  {
   "cell_type": "code",
   "execution_count": null,
   "id": "e08c13fb",
   "metadata": {},
   "outputs": [],
   "source": []
  },
  {
   "cell_type": "code",
   "execution_count": null,
   "id": "59860557",
   "metadata": {},
   "outputs": [],
   "source": []
  },
  {
   "cell_type": "code",
   "execution_count": null,
   "id": "a0e3e17f",
   "metadata": {},
   "outputs": [],
   "source": []
  },
  {
   "cell_type": "code",
   "execution_count": null,
   "id": "57420ecc",
   "metadata": {},
   "outputs": [],
   "source": []
  },
  {
   "cell_type": "code",
   "execution_count": null,
   "id": "27cf36e8",
   "metadata": {},
   "outputs": [],
   "source": []
  },
  {
   "cell_type": "code",
   "execution_count": null,
   "id": "9a4199e7",
   "metadata": {},
   "outputs": [],
   "source": []
  },
  {
   "cell_type": "code",
   "execution_count": null,
   "id": "3e89cb87",
   "metadata": {},
   "outputs": [],
   "source": []
  },
  {
   "cell_type": "code",
   "execution_count": null,
   "id": "4e61dff2",
   "metadata": {},
   "outputs": [],
   "source": []
  },
  {
   "cell_type": "code",
   "execution_count": null,
   "id": "4cd5017f",
   "metadata": {},
   "outputs": [],
   "source": []
  }
 ],
 "metadata": {
  "kernelspec": {
   "display_name": "Python 3",
   "language": "python",
   "name": "python3"
  },
  "language_info": {
   "codemirror_mode": {
    "name": "ipython",
    "version": 3
   },
   "file_extension": ".py",
   "mimetype": "text/x-python",
   "name": "python",
   "nbconvert_exporter": "python",
   "pygments_lexer": "ipython3",
   "version": "3.8.8"
  }
 },
 "nbformat": 4,
 "nbformat_minor": 5
}
