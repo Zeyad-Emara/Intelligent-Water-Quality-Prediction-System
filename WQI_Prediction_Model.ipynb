{
 "cells": [
  {
   "cell_type": "code",
   "execution_count": 1,
   "id": "ad5751f3",
   "metadata": {
    "scrolled": true
   },
   "outputs": [],
   "source": [
    "#import stuff\n",
    "\n",
    "import pandas as pd\n",
    "import numpy as np\n",
    "import matplotlib.pyplot as plt\n",
    "\n",
    "#must need for preprocessing and evaluation\n",
    "from sklearn.model_selection import train_test_split\n",
    "from sklearn.metrics import accuracy_score\n",
    "from sklearn.metrics import precision_score\n",
    "from sklearn.metrics import mean_squared_error\n",
    "from sklearn.metrics import mean_absolute_error\n",
    "from sklearn.metrics import r2_score\n",
    "from sklearn import preprocessing\n",
    "from sklearn.preprocessing import StandardScaler\n",
    "from matplotlib import pyplot\n",
    "\n",
    "#libraries for the ML model\n",
    "from sklearn.neural_network import MLPClassifier\n",
    "from sklearn.svm import SVC\n",
    "from sklearn.linear_model import LinearRegression\n",
    "from sklearn.neural_network import MLPRegressor\n",
    "from sklearn.tree import DecisionTreeRegressor\n",
    "from sklearn.svm import SVR\n",
    "from sklearn.ensemble import RandomForestRegressor\n",
    "\n",
    "#libraries for exporting\n",
    "from joblib import dump, load\n",
    "\n",
    "\n",
    "stdScaler = StandardScaler()\n",
    "\n",
    "water_data = pd.read_csv(\"water_dataX_wqi_cleaned.csv\")"
   ]
  },
  {
   "cell_type": "code",
   "execution_count": 2,
   "id": "dcdd20f2",
   "metadata": {
    "scrolled": false
   },
   "outputs": [
    {
     "data": {
      "text/html": [
       "<div>\n",
       "<style scoped>\n",
       "    .dataframe tbody tr th:only-of-type {\n",
       "        vertical-align: middle;\n",
       "    }\n",
       "\n",
       "    .dataframe tbody tr th {\n",
       "        vertical-align: top;\n",
       "    }\n",
       "\n",
       "    .dataframe thead th {\n",
       "        text-align: right;\n",
       "    }\n",
       "</style>\n",
       "<table border=\"1\" class=\"dataframe\">\n",
       "  <thead>\n",
       "    <tr style=\"text-align: right;\">\n",
       "      <th></th>\n",
       "      <th>D.O. (mg/l)</th>\n",
       "      <th>PH</th>\n",
       "      <th>CONDUCTIVITY (µmhos/cm)</th>\n",
       "      <th>B.O.D. (mg/l)</th>\n",
       "      <th>NITRATE N+ NITRITEN (mg/l)</th>\n",
       "      <th>FECAL COLIFORM (MPN/100ml)</th>\n",
       "      <th>TOTAL COLIFORM (MPN/100ml)Mean</th>\n",
       "    </tr>\n",
       "  </thead>\n",
       "  <tbody>\n",
       "    <tr>\n",
       "      <th>0</th>\n",
       "      <td>-0.496288</td>\n",
       "      <td>-0.055456</td>\n",
       "      <td>-0.305157</td>\n",
       "      <td>-0.156496</td>\n",
       "      <td>-0.427924</td>\n",
       "      <td>-0.041998</td>\n",
       "      <td>-0.039903</td>\n",
       "    </tr>\n",
       "    <tr>\n",
       "      <th>1</th>\n",
       "      <td>-0.029932</td>\n",
       "      <td>-0.055726</td>\n",
       "      <td>-0.307036</td>\n",
       "      <td>-0.171145</td>\n",
       "      <td>-0.463649</td>\n",
       "      <td>-0.042187</td>\n",
       "      <td>-0.040101</td>\n",
       "    </tr>\n",
       "    <tr>\n",
       "      <th>2</th>\n",
       "      <td>-0.418562</td>\n",
       "      <td>-0.055726</td>\n",
       "      <td>-0.328652</td>\n",
       "      <td>-0.068603</td>\n",
       "      <td>-0.320749</td>\n",
       "      <td>-0.041950</td>\n",
       "      <td>-0.039900</td>\n",
       "    </tr>\n",
       "    <tr>\n",
       "      <th>3</th>\n",
       "      <td>-0.418562</td>\n",
       "      <td>-0.055366</td>\n",
       "      <td>-0.325081</td>\n",
       "      <td>-0.161379</td>\n",
       "      <td>-0.356474</td>\n",
       "      <td>-0.042167</td>\n",
       "      <td>-0.040090</td>\n",
       "    </tr>\n",
       "    <tr>\n",
       "      <th>4</th>\n",
       "      <td>-0.651741</td>\n",
       "      <td>-0.055276</td>\n",
       "      <td>-0.325457</td>\n",
       "      <td>-0.180910</td>\n",
       "      <td>-0.463649</td>\n",
       "      <td>-0.042230</td>\n",
       "      <td>-0.040184</td>\n",
       "    </tr>\n",
       "    <tr>\n",
       "      <th>...</th>\n",
       "      <td>...</td>\n",
       "      <td>...</td>\n",
       "      <td>...</td>\n",
       "      <td>...</td>\n",
       "      <td>...</td>\n",
       "      <td>...</td>\n",
       "      <td>...</td>\n",
       "    </tr>\n",
       "    <tr>\n",
       "      <th>1572</th>\n",
       "      <td>0.747330</td>\n",
       "      <td>0.098284</td>\n",
       "      <td>-0.339423</td>\n",
       "      <td>-0.180910</td>\n",
       "      <td>-0.450074</td>\n",
       "      <td>-0.042546</td>\n",
       "      <td>-0.040434</td>\n",
       "    </tr>\n",
       "    <tr>\n",
       "      <th>1573</th>\n",
       "      <td>0.591877</td>\n",
       "      <td>0.130688</td>\n",
       "      <td>-0.339404</td>\n",
       "      <td>-0.141847</td>\n",
       "      <td>-0.290383</td>\n",
       "      <td>-0.042546</td>\n",
       "      <td>-0.040424</td>\n",
       "    </tr>\n",
       "    <tr>\n",
       "      <th>1574</th>\n",
       "      <td>0.436425</td>\n",
       "      <td>0.069480</td>\n",
       "      <td>-0.339347</td>\n",
       "      <td>-0.156496</td>\n",
       "      <td>-0.318606</td>\n",
       "      <td>-0.042546</td>\n",
       "      <td>-0.040444</td>\n",
       "    </tr>\n",
       "    <tr>\n",
       "      <th>1575</th>\n",
       "      <td>0.514151</td>\n",
       "      <td>0.060479</td>\n",
       "      <td>-0.339272</td>\n",
       "      <td>-0.185793</td>\n",
       "      <td>-0.281809</td>\n",
       "      <td>-0.042546</td>\n",
       "      <td>-0.040433</td>\n",
       "    </tr>\n",
       "    <tr>\n",
       "      <th>1576</th>\n",
       "      <td>0.902782</td>\n",
       "      <td>0.464630</td>\n",
       "      <td>-0.339498</td>\n",
       "      <td>-0.127198</td>\n",
       "      <td>-0.444000</td>\n",
       "      <td>-0.042546</td>\n",
       "      <td>-0.040426</td>\n",
       "    </tr>\n",
       "  </tbody>\n",
       "</table>\n",
       "<p>1577 rows × 7 columns</p>\n",
       "</div>"
      ],
      "text/plain": [
       "      D.O. (mg/l)        PH  CONDUCTIVITY (µmhos/cm)  B.O.D. (mg/l)  \\\n",
       "0       -0.496288 -0.055456                -0.305157      -0.156496   \n",
       "1       -0.029932 -0.055726                -0.307036      -0.171145   \n",
       "2       -0.418562 -0.055726                -0.328652      -0.068603   \n",
       "3       -0.418562 -0.055366                -0.325081      -0.161379   \n",
       "4       -0.651741 -0.055276                -0.325457      -0.180910   \n",
       "...           ...       ...                      ...            ...   \n",
       "1572     0.747330  0.098284                -0.339423      -0.180910   \n",
       "1573     0.591877  0.130688                -0.339404      -0.141847   \n",
       "1574     0.436425  0.069480                -0.339347      -0.156496   \n",
       "1575     0.514151  0.060479                -0.339272      -0.185793   \n",
       "1576     0.902782  0.464630                -0.339498      -0.127198   \n",
       "\n",
       "      NITRATE N+ NITRITEN (mg/l)  FECAL COLIFORM (MPN/100ml)  \\\n",
       "0                      -0.427924                   -0.041998   \n",
       "1                      -0.463649                   -0.042187   \n",
       "2                      -0.320749                   -0.041950   \n",
       "3                      -0.356474                   -0.042167   \n",
       "4                      -0.463649                   -0.042230   \n",
       "...                          ...                         ...   \n",
       "1572                   -0.450074                   -0.042546   \n",
       "1573                   -0.290383                   -0.042546   \n",
       "1574                   -0.318606                   -0.042546   \n",
       "1575                   -0.281809                   -0.042546   \n",
       "1576                   -0.444000                   -0.042546   \n",
       "\n",
       "      TOTAL COLIFORM (MPN/100ml)Mean  \n",
       "0                          -0.039903  \n",
       "1                          -0.040101  \n",
       "2                          -0.039900  \n",
       "3                          -0.040090  \n",
       "4                          -0.040184  \n",
       "...                              ...  \n",
       "1572                       -0.040434  \n",
       "1573                       -0.040424  \n",
       "1574                       -0.040444  \n",
       "1575                       -0.040433  \n",
       "1576                       -0.040426  \n",
       "\n",
       "[1577 rows x 7 columns]"
      ]
     },
     "execution_count": 2,
     "metadata": {},
     "output_type": "execute_result"
    }
   ],
   "source": [
    "#preprocessing\n",
    "\n",
    "X = water_data.drop(columns = ['STATION CODE','LOCATIONS','STATE','Temp','Potability','WQI','year'])\n",
    "X = pd.DataFrame(stdScaler.fit_transform(X), columns = X.columns)\n",
    "\n",
    "yWQI = water_data['WQI']\n",
    "yPot = water_data['Potability']\n",
    "\n",
    "X"
   ]
  },
  {
   "cell_type": "code",
   "execution_count": 8,
   "id": "5e93cc9e",
   "metadata": {},
   "outputs": [
    {
     "data": {
      "text/plain": [
       "['StdScaler.pkl']"
      ]
     },
     "execution_count": 8,
     "metadata": {},
     "output_type": "execute_result"
    }
   ],
   "source": [
    "#export scaler\n",
    "dump(stdScaler,'StdScaler.pkl')\n"
   ]
  },
  {
   "cell_type": "code",
   "execution_count": 113,
   "id": "3f048f78",
   "metadata": {
    "scrolled": true
   },
   "outputs": [
    {
     "name": "stdout",
     "output_type": "stream",
     "text": [
      "accuracy: 0.8565400843881856\n",
      "precision: 0.8439024390243902\n"
     ]
    }
   ],
   "source": [
    "#support vector classification\n",
    "clf = SVC(kernel=\"rbf\", C = 1.03, gamma = 0.25)\n",
    "\n",
    "X_train, X_test, y_train, y_test = train_test_split(X, yPot, test_size = 0.3)\n",
    "\n",
    "clf.fit(X_train, y_train)\n",
    "\n",
    "predictions = clf.predict(X_test)\n",
    "\n",
    "accuracy = accuracy_score(y_test, predictions)\n",
    "precision = precision_score(y_test, predictions)\n",
    "\n",
    "print(\"accuracy: \" + str(accuracy))\n",
    "print(\"precision: \" + str(precision))\n"
   ]
  },
  {
   "cell_type": "code",
   "execution_count": 114,
   "id": "d71581db",
   "metadata": {
    "scrolled": true
   },
   "outputs": [
    {
     "name": "stdout",
     "output_type": "stream",
     "text": [
      "accuracy: 0.8713080168776371\n",
      "precision: 0.8623376623376623\n"
     ]
    }
   ],
   "source": [
    "#multilayer perceptron classifier\n",
    "clf = MLPClassifier(solver='lbfgs', alpha=1e-5, hidden_layer_sizes=(5, 2), random_state=1,max_iter = 1000)\n",
    "\n",
    "X_train, X_test, y_train, y_test = train_test_split(X, yPot, test_size = 0.3)\n",
    "\n",
    "clf.fit(X_train, y_train)\n",
    "\n",
    "predictions = clf.predict(X_test)\n",
    "\n",
    "accuracy = accuracy_score(y_test, predictions)\n",
    "precision = precision_score(y_test, predictions)\n",
    "\n",
    "print(\"accuracy: \" + str(accuracy))\n",
    "print(\"precision: \" + str(precision))"
   ]
  },
  {
   "cell_type": "code",
   "execution_count": 3,
   "id": "3a7120b9",
   "metadata": {
    "scrolled": true
   },
   "outputs": [
    {
     "name": "stdout",
     "output_type": "stream",
     "text": [
      "mean squared error: 9.281823574134293e-13\n",
      "mean average error: 5.064492200015398e-07\n",
      "R squared: 1.0\n"
     ]
    },
    {
     "data": {
      "text/plain": [
       "7"
      ]
     },
     "execution_count": 3,
     "metadata": {},
     "output_type": "execute_result"
    }
   ],
   "source": [
    "#linear regression\n",
    "clf = LinearRegression()\n",
    "\n",
    "X_train, X_test, y_train, y_test = train_test_split(X, yWQI, test_size = 0.2)\n",
    "\n",
    "clf.fit(X_train, y_train)\n",
    "\n",
    "predictions = clf.predict(X_test)\n",
    "\n",
    "MSE = mean_squared_error(y_test, predictions)\n",
    "MAE = mean_absolute_error(y_test, predictions)\n",
    "r_squared = r2_score(y_test, predictions)\n",
    "\n",
    "print(\"mean squared error: \" + str(MSE))\n",
    "print(\"mean average error: \" + str(MAE))\n",
    "print(\"R squared: \" + str(r_squared))     \n",
    "clf.n_features_in_\n"
   ]
  },
  {
   "cell_type": "code",
   "execution_count": 4,
   "id": "197990be",
   "metadata": {
    "scrolled": true
   },
   "outputs": [
    {
     "data": {
      "text/plain": [
       "['WQIModelv1.pkl']"
      ]
     },
     "execution_count": 4,
     "metadata": {},
     "output_type": "execute_result"
    }
   ],
   "source": [
    "#export linear regression\n",
    "dump(clf, 'WQIModelv1.pkl')\n"
   ]
  },
  {
   "cell_type": "code",
   "execution_count": 10,
   "id": "6457fd97",
   "metadata": {
    "scrolled": true
   },
   "outputs": [
    {
     "data": {
      "text/plain": [
       "array([15.15462763])"
      ]
     },
     "execution_count": 10,
     "metadata": {},
     "output_type": "execute_result"
    }
   ],
   "source": [
    "model = load('WQIModelv1.pkl')\n",
    "scaler = load('StdScaler.pkl')\n",
    "value = [1,2,3,4,5,6,7]\n",
    "value = np.array(value).reshape(1, -1)\n",
    "value = scaler.transform(value)\n",
    "prediction = model.predict(value)\n",
    "prediction"
   ]
  },
  {
   "cell_type": "code",
   "execution_count": 42,
   "id": "70b5e726",
   "metadata": {
    "scrolled": false
   },
   "outputs": [
    {
     "name": "stdout",
     "output_type": "stream",
     "text": [
      "mean squared error: 159864690992.5783\n",
      "mean average error: 32402.114398019807\n",
      "R squared: 0.05904040944833233\n",
      "Loss: 4045915480.572639\n"
     ]
    },
    {
     "data": {
      "image/png": "[encoded data removed]",
      "text/plain": [
       "<Figure size 432x288 with 1 Axes>"
      ]
     },
     "metadata": {
      "needs_background": "light"
     },
     "output_type": "display_data"
    }
   ],
   "source": [
    "#Multilayer Perceptron Regression\n",
    "mlprgs = MLPRegressor(activation = 'logistic', hidden_layer_sizes=(1), tol = 0.0000000001, learning_rate_init = 10, learning_rate = 'adaptive', max_iter = 100000)\n",
    "\n",
    "X_train, X_test, y_train, y_test = train_test_split(X, yWQI, test_size = 0.2)\n",
    "\n",
    "mlprgs.fit(X_train, y_train)\n",
    "\n",
    "predictions = mlprgs.predict(X_test)\n",
    "\n",
    "MSE = mean_squared_error(y_test, predictions)\n",
    "MAE = mean_absolute_error(y_test, predictions)\n",
    "r_squared = r2_score(y_test, predictions)\n",
    "\n",
    "print(\"mean squared error: \" + str(MSE))\n",
    "print(\"mean average error: \" + str(MAE))\n",
    "print(\"R squared: \" + str(r_squared)) \n",
    "\n",
    "pyplot.plot(mlprgs.loss_curve_)\n",
    "\n",
    "#[list(range(100))]\n",
    "\n",
    "\n",
    "print(\"Loss: \" + str(mlprgs.best_loss_))"
   ]
  },
  {
   "cell_type": "code",
   "execution_count": 4,
   "id": "1321410a",
   "metadata": {
    "scrolled": true
   },
   "outputs": [
    {
     "name": "stdout",
     "output_type": "stream",
     "text": [
      "mean squared error: 13840687761.250898\n",
      "mean average error: 6833.485140704289\n",
      "R squared: 0.7346292866263402\n"
     ]
    }
   ],
   "source": [
    "#Decision Tree Regression\n",
    "clf = DecisionTreeRegressor()\n",
    "\n",
    "X_train, X_test, y_train, y_test = train_test_split(X, yWQI, test_size = 0.2)\n",
    "\n",
    "clf.fit(X_train, y_train)\n",
    "\n",
    "predictions = clf.predict(X_test)\n",
    "\n",
    "MSE = mean_squared_error(y_test, predictions)\n",
    "MAE = mean_absolute_error(y_test, predictions)\n",
    "r_squared = r2_score(y_test, predictions)\n",
    "\n",
    "print(\"mean squared error: \" + str(MSE))\n",
    "print(\"mean average error: \" + str(MAE))\n",
    "print(\"R squared: \" + str(r_squared))  "
   ]
  },
  {
   "cell_type": "code",
   "execution_count": 45,
   "id": "d04ab70a",
   "metadata": {
    "scrolled": true
   },
   "outputs": [
    {
     "name": "stdout",
     "output_type": "stream",
     "text": [
      "mean squared error: 1346832236.185008\n",
      "mean average error: 3192.5793665558326\n",
      "R squared: -0.007364464353389444\n"
     ]
    }
   ],
   "source": [
    "#support vector regression\n",
    "clf = SVR(kernel = 'rbf', gamma = 'auto', C = 1.05, epsilon = 0.1)\n",
    "\n",
    "X_train, X_test, y_train, y_test = train_test_split(X, yWQI, test_size = 0.2)\n",
    "\n",
    "clf.fit(X_train, y_train)\n",
    "\n",
    "predictions = clf.predict(X_test)\n",
    "\n",
    "MSE = mean_squared_error(y_test, predictions)\n",
    "MAE = mean_absolute_error(y_test, predictions)\n",
    "r_squared = r2_score(y_test, predictions)\n",
    "\n",
    "print(\"mean squared error: \" + str(MSE))\n",
    "print(\"mean average error: \" + str(MAE))\n",
    "print(\"R squared: \" + str(r_squared))  "
   ]
  },
  {
   "cell_type": "code",
   "execution_count": 51,
   "id": "c418dd6a",
   "metadata": {},
   "outputs": [
    {
     "name": "stdout",
     "output_type": "stream",
     "text": [
      "mean squared error: 2336712234.169288\n",
      "mean average error: 6867.912042253667\n",
      "R squared: 0.9361764422012349\n"
     ]
    }
   ],
   "source": [
    "#random forest regressor\n",
    "clf = RandomForestRegressor(n_estimators = 200, max_depth = 10000)\n",
    "\n",
    "X_train, X_test, y_train, y_test = train_test_split(X, yWQI, test_size = 0.2)\n",
    "\n",
    "clf.fit(X_train, y_train)\n",
    "\n",
    "predictions = clf.predict(X_test)\n",
    "\n",
    "MSE = mean_squared_error(y_test, predictions)\n",
    "MAE = mean_absolute_error(y_test, predictions)\n",
    "r_squared = r2_score(y_test, predictions)\n",
    "\n",
    "print(\"mean squared error: \" + str(MSE))\n",
    "print(\"mean average error: \" + str(MAE))\n",
    "print(\"R squared: \" + str(r_squared))  "
   ]
  },
  {
   "cell_type": "code",
   "execution_count": null,
   "id": "b656c7de",
   "metadata": {},
   "outputs": [],
   "source": []
  }
 ],
 "metadata": {
  "kernelspec": {
   "display_name": "Python 3",
   "language": "python",
   "name": "python3"
  },
  "language_info": {
   "codemirror_mode": {
    "name": "ipython",
    "version": 3
   },
   "file_extension": ".py",
   "mimetype": "text/x-python",
   "name": "python",
   "nbconvert_exporter": "python",
   "pygments_lexer": "ipython3",
   "version": "3.8.8"
  }
 },
 "nbformat": 4,
 "nbformat_minor": 5
}
